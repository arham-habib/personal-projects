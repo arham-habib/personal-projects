{
 "cells": [
  {
   "cell_type": "markdown",
   "metadata": {},
   "source": [
    "## The Prisoner's Dilemma\n",
    "2025.01.02"
   ]
  },
  {
   "cell_type": "markdown",
   "metadata": {},
   "source": [
    "### Problem:\n",
    "\n",
    "> Let's say there are 100 prisoners. A warden assigns them a number, 1 to 100, and repeats are allowed. A prisoner will be called in one by one, and shown the sum of every prisoner's numbers minus their own. They can guess their number. If a single person correctly guesses their number, they are all free. What is an algorithm to guarantee this? They cannot communicate once they start seeing thier numbers."
   ]
  },
  {
   "cell_type": "markdown",
   "metadata": {},
   "source": [
    "### Approach"
   ]
  },
  {
   "cell_type": "markdown",
   "metadata": {},
   "source": [
    "There are 100 prisoners. They are all assigned a number; it is not necessarily unique. The solution is the pigeon hole principle. Recognize that, though there is a massive range of potential sums, there are only 100 values for the remainder of the sum of all prisoners' values. \n",
    "\n",
    "Assign every prisoner a unique number, from 0 to 99. They will see the sum of everyone else's number. They will select their guess such that their guess, plus the other inmates' numbers, equals the unqique predetermined number they were assigned from 0 to 99. \n",
    "\n",
    "There are only 100 possible remainders, and therefore, one of these prisoners must get the remainder correct. If they get the remainder correct, they necessarily get their number correct, because the sum of all the other prisoners' numbers are known."
   ]
  },
  {
   "cell_type": "markdown",
   "metadata": {},
   "source": [
    "### Simulation"
   ]
  },
  {
   "cell_type": "code",
   "execution_count": 1,
   "metadata": {},
   "outputs": [],
   "source": [
    "import numpy as np\n",
    "\n",
    "def simulate_prisoners(n: int):\n",
    "    \"\"\"Simulate the prisoner's dilemma with n prisoners.\"\"\"\n",
    "\n",
    "    # Randomly assign numbers between 1 and n to each prisoner (repeats allowed)\n",
    "    prisoner_numbers = np.random.randint(1, n + 1, size=n)\n",
    "    prisoner_index = np.array(range(1, n+1))\n",
    "    \n",
    "    # Total sum of all numbers\n",
    "    total_sum = np.sum(prisoner_numbers)\n",
    "    \n",
    "    # Calculate the sum each prisoner sees\n",
    "    sums_shown = total_sum - prisoner_numbers\n",
    "    \n",
    "    # Each prisoner guesses their number\n",
    "    mod = sums_shown % n\n",
    "\n",
    "    missing = prisoner_index - mod\n",
    "    guesses = np.where(missing > 0, missing, n + missing)\n",
    "    \n",
    "    # Record a flag for prisoners who guessed correctly\n",
    "    correct_flags = (guesses == prisoner_numbers).astype(int)\n",
    "    \n",
    "    # Return the four lists\n",
    "    return prisoner_numbers.tolist(), prisoner_index.tolist(), sums_shown.tolist(), guesses.tolist(), correct_flags.tolist()\n"
   ]
  },
  {
   "cell_type": "code",
   "execution_count": 2,
   "metadata": {},
   "outputs": [
    {
     "name": "stdout",
     "output_type": "stream",
     "text": [
      "Prisoner Numbers (True Values): [8, 10, 3, 10, 6, 3, 1, 6, 10, 7]\n",
      "Prisoner Assigned Number: [1, 2, 3, 4, 5, 6, 7, 8, 9, 10]\n",
      "Sums Shown to Prisoners: [56, 54, 61, 54, 58, 61, 63, 58, 54, 57]\n",
      "Prisoner Guesses: [5, 8, 2, 10, 7, 5, 4, 10, 5, 3]\n",
      "Correct Flags (1 = Correct, 0 = Incorrect): [0, 0, 0, 1, 0, 0, 0, 0, 0, 0]\n"
     ]
    }
   ],
   "source": [
    "n = 10  # Number of prisoners\n",
    "prisoner_numbers, prisoner_index, sums_shown, guesses, correct_flags = simulate_prisoners(n)\n",
    "\n",
    "# Display the results\n",
    "print(\"Prisoner Numbers (True Values):\", prisoner_numbers)\n",
    "print(\"Prisoner Assigned Number:\", prisoner_index)\n",
    "print(\"Sums Shown to Prisoners:\", sums_shown)\n",
    "print(\"Prisoner Guesses:\", guesses)\n",
    "print(\"Correct Flags (1 = Correct, 0 = Incorrect):\", correct_flags)"
   ]
  }
 ],
 "metadata": {
  "kernelspec": {
   "display_name": "np_veclib",
   "language": "python",
   "name": "python3"
  },
  "language_info": {
   "codemirror_mode": {
    "name": "ipython",
    "version": 3
   },
   "file_extension": ".py",
   "mimetype": "text/x-python",
   "name": "python",
   "nbconvert_exporter": "python",
   "pygments_lexer": "ipython3",
   "version": "3.9.18"
  }
 },
 "nbformat": 4,
 "nbformat_minor": 2
}
