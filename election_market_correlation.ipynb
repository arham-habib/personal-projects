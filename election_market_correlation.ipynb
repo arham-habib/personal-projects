{
 "cells": [
  {
   "cell_type": "markdown",
   "metadata": {},
   "source": [
    "### Calculate the pairwise correlation of logits \n",
    "- Election odds imply a probability for each state, and a probability of a sweep\n",
    "- How correlated do these odds have to be for the joint probability of a sweep to be fair?\n",
    "- Analytical approach: use a multivariate Gaussian for an underlying continuous, translate that to success/failure in each swing state with the percentile threshold\n",
    "    - Let's say that the correlation matrix has only one non-diagonal entry (all states are equally correlated)\n",
    "    - What is the correlation required to make prediction market pricing fair?\n"
   ]
  },
  {
   "cell_type": "code",
   "execution_count": 34,
   "metadata": {},
   "outputs": [],
   "source": [
    "import numpy as np\n",
    "from scipy.stats import norm\n",
    "np.set_printoptions(threshold=np.inf)"
   ]
  },
  {
   "cell_type": "code",
   "execution_count": 49,
   "metadata": {},
   "outputs": [],
   "source": [
    "def generate_correlated_bernoulli(n, p, rho, num_samples):\n",
    "    \"\"\"\n",
    "    Generate correlated Bernoulli random variables.\n",
    "\n",
    "    Parameters:\n",
    "    - n: int, number of Bernoulli variables\n",
    "    - p: list of probabilities for each Bernoulli variable\n",
    "    - rho: float, correlation coefficient for the latent normal distribution\n",
    "    - num_samples: int, number of samples to generate\n",
    "\n",
    "    Returns:\n",
    "    - samples: ndarray, shape (num_samples, n), matrix of correlated Bernoulli samples\n",
    "    \"\"\"\n",
    "    correlation_matrix = np.full((n, n), rho)\n",
    "    np.fill_diagonal(correlation_matrix, 1)\n",
    "    \n",
    "    # Generate multivariate normal samples with the specified correlation matrix\n",
    "    mean = np.zeros(n)\n",
    "    latent_normals = np.random.multivariate_normal(mean, correlation_matrix, size=num_samples)\n",
    "    \n",
    "    # Calculate thresholds based on probabilities p\n",
    "    thresholds = norm.ppf(p)\n",
    "    \n",
    "    # Convert latent normal variables to Bernoulli by applying thresholds\n",
    "    samples = (latent_normals > thresholds).astype(int)\n",
    "    \n",
    "    return samples\n",
    "\n",
    "def find_all_ones_samples(samples):\n",
    "    \"\"\"\n",
    "    Find the indices where all outcomes are ones in each sample.\n",
    "\n",
    "    Parameters:\n",
    "    - samples: ndarray, shape (num_samples, n), matrix of Bernoulli samples\n",
    "\n",
    "    Returns:\n",
    "    - indices: list, indices of rows where all outcomes are ones\n",
    "    \"\"\"\n",
    "    all_ones_indices = np.where(np.all(samples == 1, axis=1))[0]\n",
    "    return all_ones_indices\n",
    "\n",
    "n = 7  # Number of Bernoulli variables\n",
    "p = [0.8, .66, .48, .58, .8, .5, .3]\n",
    "rho = 0.6  # Desired correlation coefficient between the Bernoulli variables\n",
    "num_samples = 100000  # Number of samples to generate\n",
    "\n",
    "correlated_bernoulli_samples = generate_correlated_bernoulli(n, p, rho, num_samples)\n",
    "all_ones_indices = find_all_ones_samples(correlated_bernoulli_samples)"
   ]
  },
  {
   "cell_type": "code",
   "execution_count": 50,
   "metadata": {},
   "outputs": [
    {
     "data": {
      "text/plain": [
       "0.0675"
      ]
     },
     "execution_count": 50,
     "metadata": {},
     "output_type": "execute_result"
    }
   ],
   "source": [
    "len(all_ones_indices) / num_samples"
   ]
  },
  {
   "cell_type": "code",
   "execution_count": 43,
   "metadata": {},
   "outputs": [],
   "source": [
    "# Example usage:\n",
    "n = 7 \n",
    "p = [0.2, .34, .52, .42, .2, .5, .7]\n",
    "rho = 0.4  # Desired correlation coefficient between the Bernoulli variables\n",
    "num_samples = 100000  # Number of samples to generate\n",
    "\n",
    "correlated_bernoulli_samples = generate_correlated_bernoulli(n, p, rho, num_samples)\n",
    "all_ones_indices = find_all_ones_samples(correlated_bernoulli_samples)"
   ]
  },
  {
   "cell_type": "code",
   "execution_count": 44,
   "metadata": {},
   "outputs": [
    {
     "data": {
      "text/plain": [
       "0.1106"
      ]
     },
     "execution_count": 44,
     "metadata": {},
     "output_type": "execute_result"
    }
   ],
   "source": [
    "len(all_ones_indices) / num_samples"
   ]
  },
  {
   "cell_type": "code",
   "execution_count": null,
   "metadata": {},
   "outputs": [],
   "source": []
  }
 ],
 "metadata": {
  "kernelspec": {
   "display_name": "np_veclib",
   "language": "python",
   "name": "python3"
  },
  "language_info": {
   "codemirror_mode": {
    "name": "ipython",
    "version": 3
   },
   "file_extension": ".py",
   "mimetype": "text/x-python",
   "name": "python",
   "nbconvert_exporter": "python",
   "pygments_lexer": "ipython3",
   "version": "3.9.18"
  }
 },
 "nbformat": 4,
 "nbformat_minor": 2
}
